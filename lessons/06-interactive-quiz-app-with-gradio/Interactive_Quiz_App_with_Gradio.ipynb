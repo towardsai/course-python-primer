{
  "nbformat": 4,
  "nbformat_minor": 0,
  "metadata": {
    "colab": {
      "provenance": []
    },
    "kernelspec": {
      "name": "python3",
      "display_name": "Python 3"
    },
    "language_info": {
      "name": "python"
    }
  },
  "cells": [
    {
      "cell_type": "code",
      "source": [
        "!pip install -q gradio==5.18.0"
      ],
      "metadata": {
        "collapsed": true,
        "id": "SNcaFVGVz13n"
      },
      "execution_count": 3,
      "outputs": []
    },
    {
      "cell_type": "code",
      "execution_count": 4,
      "metadata": {
        "colab": {
          "base_uri": "https://localhost:8080/",
          "height": 645
        },
        "id": "g54IG-t-pl4L",
        "outputId": "79197e74-0263-47e2-b748-386547a52ed9"
      },
      "outputs": [
        {
          "output_type": "stream",
          "name": "stdout",
          "text": [
            "Running Gradio in a Colab notebook requires sharing enabled. Automatically setting `share=True` (you can turn this off by setting `share=False` in `launch()` explicitly).\n",
            "\n",
            "Colab notebook detected. To show errors in colab notebook, set debug=True in launch()\n",
            "* Running on public URL: https://872d5a1eac1a8d4b16.gradio.live\n",
            "\n",
            "This share link expires in 72 hours. For free permanent hosting and GPU upgrades, run `gradio deploy` from the terminal in the working directory to deploy to Hugging Face Spaces (https://huggingface.co/spaces)\n"
          ]
        },
        {
          "output_type": "display_data",
          "data": {
            "text/plain": [
              "<IPython.core.display.HTML object>"
            ],
            "text/html": [
              "<div><iframe src=\"https://872d5a1eac1a8d4b16.gradio.live\" width=\"100%\" height=\"500\" allow=\"autoplay; camera; microphone; clipboard-read; clipboard-write;\" frameborder=\"0\" allowfullscreen></iframe></div>"
            ]
          },
          "metadata": {}
        }
      ],
      "source": [
        "import gradio as gr\n",
        "import random\n",
        "\n",
        "# Quiz data (merged from quiz_data.py)\n",
        "QUIZ_QUESTIONS = [\n",
        "    {\n",
        "        \"question\": \"Which planet is known as the Red Planet?\",\n",
        "        \"options\": [\"Earth\", \"Mars\", \"Jupiter\", \"Venus\"],\n",
        "        \"answer\": \"Mars\",\n",
        "        \"hint\": \"It's named after the Roman god of war.\"\n",
        "    },\n",
        "    {\n",
        "        \"question\": \"Who developed the theory of relativity?\",\n",
        "        \"options\": [\"Isaac Newton\", \"Albert Einstein\", \"Nikola Tesla\", \"Galileo Galilei\"],\n",
        "        \"answer\": \"Albert Einstein\",\n",
        "        \"hint\": \"His famous equation is E=mc^2.\"\n",
        "    },\n",
        "    {\n",
        "        \"question\": \"Which language is primarily used for data science?\",\n",
        "        \"options\": [\"C++\", \"Python\", \"HTML\", \"Swift\"],\n",
        "        \"answer\": \"Python\",\n",
        "        \"hint\": \"This language is known for its simplicity and vast libraries.\"\n",
        "    }\n",
        "]\n",
        "\n",
        "# Shuffle the questions when the app launches\n",
        "def generate_question_texts():\n",
        "    question_list = [q[\"question\"] for q in QUIZ_QUESTIONS]\n",
        "    random.shuffle(question_list)\n",
        "    return question_list\n",
        "\n",
        "# Check user's answer and update score\n",
        "def check_answer(selected_option, question_text, score):\n",
        "    question_index = next((i for i, q in enumerate(QUIZ_QUESTIONS) if q[\"question\"] == question_text), None)\n",
        "    if question_index is None:\n",
        "        return \"Error: Question not found\", score\n",
        "\n",
        "    correct_answer = QUIZ_QUESTIONS[question_index][\"answer\"]\n",
        "    if selected_option == correct_answer:\n",
        "        score += 1\n",
        "        return f\"Correct! | Score: {score}\", score\n",
        "    else:\n",
        "        hint = QUIZ_QUESTIONS[question_index].get(\"hint\", \"No hint available.\")\n",
        "        return f\"Incorrect. The correct answer is: {correct_answer}. Hint: {hint} | Score: {score}\", score\n",
        "\n",
        "# Find question and its options\n",
        "def quiz_interface(question_text):\n",
        "    question_idx = next((i for i, q in enumerate(QUIZ_QUESTIONS) if q[\"question\"] == question_text), None)\n",
        "    if question_idx is None:\n",
        "        return None, []\n",
        "    return question_text, QUIZ_QUESTIONS[question_idx][\"options\"]\n",
        "\n",
        "# Reset the quiz\n",
        "def reset_quiz():\n",
        "    return \"Score reset to 0!\", 0\n",
        "\n",
        "def build_quiz_app():\n",
        "    question_list = generate_question_texts()\n",
        "\n",
        "    with gr.Blocks() as demo:\n",
        "        question_dropdown = gr.Dropdown(label=\"Select a question\", choices=question_list)\n",
        "        question_display = gr.Textbox(label=\"Question\", interactive=False)\n",
        "        options_radio = gr.Radio(label=\"Choose your answer\", choices=[])\n",
        "        feedback_box = gr.Textbox(label=\"Feedback\", interactive=False)\n",
        "        score_state = gr.State(value=0)\n",
        "        reset_button = gr.Button(\"Retry Quiz\")\n",
        "\n",
        "        def update_question(question_text):\n",
        "            q_text, opts = quiz_interface(question_text)\n",
        "            if q_text is None:\n",
        "                return gr.update(value=\"No question found\"), gr.update(choices=[])\n",
        "            return gr.update(value=q_text), gr.update(choices=opts)\n",
        "\n",
        "        question_dropdown.change(\n",
        "            fn=update_question,\n",
        "            inputs=[question_dropdown],\n",
        "            outputs=[question_display, options_radio]\n",
        "        )\n",
        "\n",
        "        check_button = gr.Button(\"Check\")\n",
        "        check_button.click(\n",
        "            fn=check_answer,\n",
        "            inputs=[options_radio, question_display, score_state],\n",
        "            outputs=[feedback_box, score_state]\n",
        "        )\n",
        "\n",
        "        reset_button.click(\n",
        "            fn=reset_quiz,\n",
        "            inputs=[],\n",
        "            outputs=[feedback_box, score_state]\n",
        "        )\n",
        "\n",
        "    return demo\n",
        "\n",
        "if __name__ == \"__main__\":\n",
        "    demo = build_quiz_app()\n",
        "    demo.launch()\n"
      ]
    },
    {
      "cell_type": "code",
      "source": [],
      "metadata": {
        "id": "TDnr6omWzvRc"
      },
      "execution_count": null,
      "outputs": []
    }
  ]
}
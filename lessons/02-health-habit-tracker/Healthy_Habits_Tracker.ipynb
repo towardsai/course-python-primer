{
  "cells": [
    {
      "cell_type": "markdown",
      "metadata": {},
      "source": [
        "<a href=\"https://colab.research.google.com/github/towardsai/course-python-primer/blob/main/lessons/02-health-habit-tracker/Healthy_Habits_Tracker.ipynb\" target=\"_parent\"><img src=\"https://colab.research.google.com/assets/colab-badge.svg\" alt=\"Open In Colab\"/></a>"
      ]
    },
    {
      "cell_type": "code",
      "execution_count": 2,
      "metadata": {
        "colab": {
          "base_uri": "https://localhost:8080/"
        },
        "id": "QRjuo4nN5y6e",
        "outputId": "0ac19c8c-3a20-47ab-d580-8e85d9b7dff7"
      },
      "outputs": [
        {
          "name": "stdout",
          "output_type": "stream",
          "text": [
            "\n",
            "Debug: Starting a new loop iteration.\n",
            "Enter a habit to track (water_intake / exercise_minutes / sleep_hours), 'delete' to remove the last entry, \n",
            " 'reset' to clear all data, or 'done' to exit: water_intake\n",
            "Is this entry for morning, afternoon, or evening? morning\n",
            "Enter the amount for water_intake (or type 'delete' to remove the last entry): 3\n",
            "Keep going, you're on your way to meeting your water_intake goal!\n",
            "\n",
            "Debug: Starting a new loop iteration.\n",
            "Enter a habit to track (water_intake / exercise_minutes / sleep_hours), 'delete' to remove the last entry, \n",
            " 'reset' to clear all data, or 'done' to exit: sleep_hours\n",
            "Is this entry for morning, afternoon, or evening? evening\n",
            "Enter the amount for sleep_hours (or type 'delete' to remove the last entry): 7\n",
            "Great job! You've met or exceeded today's goal for sleep_hours!\n",
            "\n",
            "Debug: Starting a new loop iteration.\n",
            "Enter a habit to track (water_intake / exercise_minutes / sleep_hours), 'delete' to remove the last entry, \n",
            " 'reset' to clear all data, or 'done' to exit: done\n",
            "\n",
            "--- Daily Summary ---\n",
            "water_intake - Total: 3.0, Average: 3.00\n",
            "Entries: [('morning', 3.0)]\n",
            "No entries recorded for exercise_minutes.\n",
            "sleep_hours - Total: 7.0, Average: 7.00\n",
            "Entries: [('evening', 7.0)]\n",
            "Thank you for using the Healthy Habits Tracker!\n"
          ]
        }
      ],
      "source": [
        "# Healthy Habits Tracker\n",
        "\n",
        "# Define daily goals for each habit (dictionary)\n",
        "daily_goals = {\n",
        "    'water_intake': 8,      # cups of water\n",
        "    'exercise_minutes': 30, # minutes\n",
        "    'sleep_hours': 7        # hours\n",
        "}\n",
        "\n",
        "# Create a dictionary that will store lists of entries for each habit\n",
        "habits_data = {\n",
        "    'water_intake': [],\n",
        "    'exercise_minutes': [],\n",
        "    'sleep_hours': []\n",
        "}\n",
        "\n",
        "# We use a tuple for habit names (tuples can't be changed once created)\n",
        "HABIT_NAMES = ('water_intake', 'exercise_minutes', 'sleep_hours')\n",
        "\n",
        "while True:\n",
        "    # Debugging statement to see that the loop starts each time\n",
        "    print(\"\\nDebug: Starting a new loop iteration.\")\n",
        "\n",
        "    habit_choice = input(\"Enter a habit to track (water_intake / exercise_minutes / sleep_hours), 'delete' to remove the last entry, \\n 'reset' to clear all data, or 'done' to exit: \")\n",
        "\n",
        "    if habit_choice == 'done':\n",
        "        break\n",
        "    elif habit_choice == 'reset':\n",
        "        # Reset all data\n",
        "        for habit in habits_data:\n",
        "            habits_data[habit].clear()\n",
        "        print(\"All habit data has been reset!\")\n",
        "    elif habit_choice in HABIT_NAMES:\n",
        "        try:\n",
        "            # Ask for the time period\n",
        "            time_period = input(\"Is this entry for morning, afternoon, or evening? \").strip().lower()\n",
        "\n",
        "            # Validate the time period\n",
        "            if time_period not in ['morning', 'afternoon', 'evening']:\n",
        "                print(\"Invalid time period. Please enter 'morning', 'afternoon', or 'evening'.\")\n",
        "                continue\n",
        "\n",
        "            # Ask for the value or delete the last entry\n",
        "            user_value_str = input(f\"Enter the amount for {habit_choice} (or type 'delete' to remove the last entry): \").strip()\n",
        "\n",
        "            if user_value_str.lower() == 'delete':\n",
        "                if habits_data[habit_choice]:\n",
        "                    removed_value = habits_data[habit_choice].pop()\n",
        "                    print(f\"Deleted the last entry: {removed_value}\")\n",
        "                else:\n",
        "                    print(f\"No entries to delete for {habit_choice}.\")\n",
        "            else:\n",
        "                # Convert the input to a float\n",
        "                user_value = float(user_value_str)\n",
        "\n",
        "                # Validate inputs (e.g., sleep hours cannot exceed 24)\n",
        "                if habit_choice == 'sleep_hours' and user_value > 24:\n",
        "                    print(\"That can't be correct. Please enter a realistic value for sleep hours.\")\n",
        "                    continue\n",
        "\n",
        "                # Append the time period and value as a tuple\n",
        "                habits_data[habit_choice].append((time_period, user_value))\n",
        "\n",
        "                # Provide feedback using control flow\n",
        "                if user_value >= daily_goals[habit_choice]:\n",
        "                    print(f\"Great job! You've met or exceeded today's goal for {habit_choice}!\")\n",
        "                else:\n",
        "                    print(f\"Keep going, you're on your way to meeting your {habit_choice} goal!\")\n",
        "        except ValueError:\n",
        "            print(\"Invalid input. Enter a valid number.\")\n",
        "    else:\n",
        "        print(\"Unknown habit. Choose a valid option or type 'done'.\")\n",
        "\n",
        "# Print a summary of what was entered\n",
        "print(\"\\n--- Daily Summary ---\")\n",
        "for habit in HABIT_NAMES:\n",
        "    entries = habits_data[habit]\n",
        "    if entries:\n",
        "        # Calculate total and average\n",
        "        total_amount = sum(entry[1] for entry in entries)  # Sum the numeric values\n",
        "        average_amount = total_amount / len(entries)\n",
        "        print(f\"{habit} - Total: {total_amount}, Average: {average_amount:.2f}\")\n",
        "        print(f\"Entries: {entries}\")\n",
        "    else:\n",
        "        print(f\"No entries recorded for {habit}.\")\n",
        "\n",
        "print(\"Thank you for using the Healthy Habits Tracker!\")"
      ]
    },
    {
      "cell_type": "code",
      "execution_count": null,
      "metadata": {
        "id": "upVW8Vc8-z__"
      },
      "outputs": [],
      "source": []
    }
  ],
  "metadata": {
    "colab": {
      "provenance": []
    },
    "kernelspec": {
      "display_name": "Python 3",
      "name": "python3"
    },
    "language_info": {
      "name": "python"
    }
  },
  "nbformat": 4,
  "nbformat_minor": 0
}

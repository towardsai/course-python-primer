{
  "nbformat": 4,
  "nbformat_minor": 0,
  "metadata": {
    "colab": {
      "provenance": []
    },
    "kernelspec": {
      "name": "python3",
      "display_name": "Python 3"
    },
    "language_info": {
      "name": "python"
    }
  },
  "cells": [
    {
      "cell_type": "code",
      "execution_count": 1,
      "metadata": {
        "colab": {
          "base_uri": "https://localhost:8080/"
        },
        "id": "joVcJefw6G3H",
        "outputId": "2c38ac8d-7f0e-4ba2-8e5d-242f986c070f"
      },
      "outputs": [
        {
          "output_type": "stream",
          "name": "stdout",
          "text": [
            "Welcome to your Personal Budget Tracker!\n",
            "Enter your daily income: 2000\n",
            "Enter your daily expenses (excluding rent): 500\n",
            "Enter today's rent expense: 300\n",
            "Enter any note or comment for today (optional): Well Spent\n",
            "Enter your future savings goal: 1500\n",
            "\n",
            "--- Summary of Your Day ---\n",
            "Total Income for the day:  2000.0\n",
            "Total Expenses for the day (including rent):  800.0\n",
            "Net Savings for the day:  1200.0\n",
            "Today you earned 2000.0, spent 800.0, and your net savings is 1200.0.\n",
            "Your note for the day is: Well Spent\n",
            "Your future savings goal is: 1500.0\n"
          ]
        }
      ],
      "source": [
        "# Personal Budget Tracker\n",
        "\n",
        "# Friendly greeting\n",
        "print(\"Welcome to your Personal Budget Tracker!\")\n",
        "\n",
        "# Prompt the user to enter daily income\n",
        "daily_income = float(input(\"Enter your daily income: \"))\n",
        "\n",
        "# Prompt the user to enter daily expenses\n",
        "daily_expenses = float(input(\"Enter your daily expenses (excluding rent): \"))\n",
        "\n",
        "# Prompt the user to enter rent expense\n",
        "rent_expense = float(input(\"Enter today's rent expense: \"))\n",
        "\n",
        "# Prompt the user to enter an optional note\n",
        "day_note = input(\"Enter any note or comment for today (optional): \")\n",
        "\n",
        "# Prompt the user to enter a future savings goal\n",
        "goal_amount = float(input(\"Enter your future savings goal: \"))\n",
        "\n",
        "# Calculate total expenses\n",
        "total_expenses = daily_expenses + rent_expense\n",
        "\n",
        "# Calculate net savings\n",
        "net_savings = daily_income - total_expenses\n",
        "\n",
        "# Print out the results\n",
        "print(\"\\n--- Summary of Your Day ---\")\n",
        "print(\"Total Income for the day: \", daily_income)\n",
        "print(\"Total Expenses for the day (including rent): \", total_expenses)\n",
        "print(\"Net Savings for the day: \", net_savings)\n",
        "\n",
        "# Print a final summary\n",
        "print(f\"Today you earned {daily_income}, spent {total_expenses}, and your net savings is {net_savings}.\")\n",
        "\n",
        "# Print the user's note\n",
        "if day_note.strip():  # Check if the note is not empty\n",
        "    print(\"Your note for the day is:\", day_note)\n",
        "\n",
        "# Print the user's savings goal\n",
        "print(\"Your future savings goal is:\", goal_amount)"
      ]
    },
    {
      "cell_type": "code",
      "source": [],
      "metadata": {
        "id": "Bu_cP1y8754R"
      },
      "execution_count": null,
      "outputs": []
    }
  ]
}
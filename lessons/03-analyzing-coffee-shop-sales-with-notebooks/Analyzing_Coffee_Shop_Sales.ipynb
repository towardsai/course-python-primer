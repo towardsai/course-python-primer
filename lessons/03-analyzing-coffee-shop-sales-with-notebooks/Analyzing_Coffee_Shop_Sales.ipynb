{
 "cells": [
  {
   "cell_type": "markdown",
   "metadata": {},
   "source": [
    "# Data Setup"
   ]
  },
  {
   "cell_type": "code",
   "execution_count": 1,
   "metadata": {},
   "outputs": [
    {
     "name": "stdout",
     "output_type": "stream",
     "text": [
      "{'day': ['Monday', 'Tuesday', 'Wednesday', 'Thursday', 'Friday', 'Saturday', 'Sunday'], 'coffee_sold': [50, 55, 60, 52, 70, 90, 85], 'tea_sold': [20, 18, 25, 22, 30, 35, 33], 'revenue': [250, 270, 300, 260, 350, 450, 430]}\n"
     ]
    }
   ],
   "source": [
    "coffee_sales = {\n",
    "    \"day\": [\"Monday\", \"Tuesday\", \"Wednesday\", \"Thursday\", \"Friday\", \"Saturday\", \"Sunday\"],\n",
    "    \"coffee_sold\": [50, 55, 60, 52, 70, 90, 85],\n",
    "    \"tea_sold\": [20, 18, 25, 22, 30, 35, 33],\n",
    "    \"revenue\": [250, 270, 300, 260, 350, 450, 430]\n",
    "}\n",
    "\n",
    "print(coffee_sales)  # You should see the entire dictionary displayed."
   ]
  },
  {
   "cell_type": "markdown",
   "metadata": {},
   "source": [
    "# Average Daily Revenue"
   ]
  },
  {
   "cell_type": "code",
   "execution_count": 2,
   "metadata": {},
   "outputs": [
    {
     "name": "stdout",
     "output_type": "stream",
     "text": [
      "330.0\n"
     ]
    }
   ],
   "source": [
    "revenue_list = coffee_sales[\"revenue\"]\n",
    "\n",
    "total_revenue = 0\n",
    "for amount in revenue_list:\n",
    "    total_revenue = total_revenue + amount\n",
    "\n",
    "average_revenue = total_revenue / len(revenue_list)\n",
    "print(average_revenue)  # Expected result: 330.0"
   ]
  },
  {
   "cell_type": "markdown",
   "metadata": {},
   "source": [
    "# Most Popular Day for Coffee Sales"
   ]
  },
  {
   "cell_type": "code",
   "execution_count": 3,
   "metadata": {},
   "outputs": [
    {
     "name": "stdout",
     "output_type": "stream",
     "text": [
      "Saturday with 90 coffees sold\n"
     ]
    }
   ],
   "source": [
    "coffee_list = coffee_sales[\"coffee_sold\"]\n",
    "day_list = coffee_sales[\"day\"]\n",
    "\n",
    "max_coffee = 0\n",
    "max_day = \"\"\n",
    "\n",
    "index = 0\n",
    "while index < len(coffee_list):\n",
    "    if coffee_list[index] > max_coffee:\n",
    "        max_coffee = coffee_list[index]\n",
    "        max_day = day_list[index]\n",
    "    index = index + 1\n",
    "\n",
    "print(max_day, \"with\", max_coffee, \"coffees sold\")\n",
    "# Expected result: Saturday with 90 coffees sold"
   ]
  },
  {
   "cell_type": "markdown",
   "metadata": {},
   "source": [
    "# Total Weekly Revenue"
   ]
  },
  {
   "cell_type": "code",
   "execution_count": 4,
   "metadata": {},
   "outputs": [
    {
     "name": "stdout",
     "output_type": "stream",
     "text": [
      "2310\n"
     ]
    }
   ],
   "source": [
    "revenue_list = coffee_sales[\"revenue\"]\n",
    "\n",
    "weekly_revenue = 0\n",
    "for amount in revenue_list:\n",
    "    weekly_revenue = weekly_revenue + amount\n",
    "\n",
    "print(weekly_revenue)  # Expected result: 2310"
   ]
  },
  {
   "cell_type": "markdown",
   "metadata": {},
   "source": [
    "# Simple “Correlation” Between Coffee Sales and Revenue"
   ]
  },
  {
   "cell_type": "code",
   "execution_count": 5,
   "metadata": {},
   "outputs": [
    {
     "name": "stdout",
     "output_type": "stream",
     "text": [
      "3 out of 3\n"
     ]
    }
   ],
   "source": [
    "coffee_list = coffee_sales[\"coffee_sold\"]\n",
    "revenue_list = coffee_sales[\"revenue\"]\n",
    "\n",
    "# Compute average coffee sold\n",
    "total_coffee_sold = 0\n",
    "for cups in coffee_list:\n",
    "    total_coffee_sold = total_coffee_sold + cups\n",
    "\n",
    "average_coffee_sold = total_coffee_sold / len(coffee_list)\n",
    "\n",
    "# We already have average_revenue from the step where we computed the daily average revenue.\n",
    "# But let's recompute it here to be self-contained.\n",
    "total_revenue = 0\n",
    "for amount in revenue_list:\n",
    "    total_revenue = total_revenue + amount\n",
    "\n",
    "average_revenue = total_revenue / len(revenue_list)\n",
    "\n",
    "# Count how many days have above-average coffee and also above-average revenue\n",
    "days_coffee_above_average = 0\n",
    "days_coffee_and_revenue_above_average = 0\n",
    "\n",
    "index = 0\n",
    "while index < len(coffee_list):\n",
    "    if coffee_list[index] > average_coffee_sold:\n",
    "        days_coffee_above_average = days_coffee_above_average + 1\n",
    "        if revenue_list[index] > average_revenue:\n",
    "            days_coffee_and_revenue_above_average = days_coffee_and_revenue_above_average + 1\n",
    "    index = index + 1\n",
    "\n",
    "print(days_coffee_and_revenue_above_average, \"out of\", days_coffee_above_average)\n",
    "# This tells us how many above-average coffee days also have above-average revenue.\n",
    "# 3 out of 3"
   ]
  },
  {
   "cell_type": "code",
   "execution_count": 6,
   "metadata": {},
   "outputs": [
    {
     "name": "stdout",
     "output_type": "stream",
     "text": [
      "Ratio of above-average coffee days also having above-average revenue: 1.0\n"
     ]
    }
   ],
   "source": [
    "if days_coffee_above_average > 0:\n",
    "    ratio = days_coffee_and_revenue_above_average / days_coffee_above_average\n",
    "    print(\"Ratio of above-average coffee days also having above-average revenue:\", ratio)\n",
    "# You can interpret ratio close to 1.0 as a stronger positive relationship.\n",
    "# Ratio of above-average coffee days also having above-average revenue: 1.0"
   ]
  },
  {
   "cell_type": "markdown",
   "metadata": {},
   "source": [
    "# Average Sales on Weekdays vs Weekend"
   ]
  },
  {
   "cell_type": "code",
   "execution_count": 7,
   "metadata": {},
   "outputs": [
    {
     "name": "stdout",
     "output_type": "stream",
     "text": [
      "Average weekday coffee sales: 57.4\n",
      "Average weekend coffee sales: 87.5\n"
     ]
    }
   ],
   "source": [
    "coffee_list = coffee_sales[\"coffee_sold\"]\n",
    "day_list = coffee_sales[\"day\"]\n",
    "\n",
    "weekday_total = 0\n",
    "weekday_count = 0\n",
    "weekend_total = 0\n",
    "weekend_count = 0\n",
    "\n",
    "index = 0\n",
    "while index < len(day_list):\n",
    "    current_day = day_list[index]\n",
    "    current_coffee_sales = coffee_list[index]\n",
    "\n",
    "    if current_day == \"Saturday\" or current_day == \"Sunday\":\n",
    "        weekend_total = weekend_total + current_coffee_sales\n",
    "        weekend_count = weekend_count + 1\n",
    "    else:\n",
    "        weekday_total = weekday_total + current_coffee_sales\n",
    "        weekday_count = weekday_count + 1\n",
    "\n",
    "    index = index + 1\n",
    "\n",
    "if weekday_count != 0:\n",
    "    average_weekday_coffee = weekday_total / weekday_count\n",
    "else:\n",
    "    average_weekday_coffee = 0\n",
    "\n",
    "if weekend_count != 0:\n",
    "    average_weekend_coffee = weekend_total / weekend_count\n",
    "else:\n",
    "    average_weekend_coffee = 0\n",
    "\n",
    "print(\"Average weekday coffee sales:\", average_weekday_coffee)\n",
    "print(\"Average weekend coffee sales:\", average_weekend_coffee)\n",
    "# Expected result: 57.4 for weekdays, 87.5 for weekends"
   ]
  },
  {
   "cell_type": "markdown",
   "metadata": {},
   "source": [
    "# Days Exceeding a Coffee Sales Threshold"
   ]
  },
  {
   "cell_type": "code",
   "execution_count": 8,
   "metadata": {},
   "outputs": [
    {
     "name": "stdout",
     "output_type": "stream",
     "text": [
      "3\n"
     ]
    }
   ],
   "source": [
    "coffee_list = coffee_sales[\"coffee_sold\"]\n",
    "\n",
    "threshold = 60\n",
    "days_exceeding_threshold = 0\n",
    "\n",
    "for cups in coffee_list:\n",
    "    if cups > threshold:\n",
    "        days_exceeding_threshold = days_exceeding_threshold + 1\n",
    "\n",
    "print(days_exceeding_threshold)\n",
    "# Expected result: 4 (Tuesday and Wednesday are slightly above or equal to 55 and 60, so check carefully)"
   ]
  },
  {
   "cell_type": "code",
   "execution_count": 9,
   "metadata": {},
   "outputs": [
    {
     "name": "stdout",
     "output_type": "stream",
     "text": [
      "Days that exceeded threshold: 4\n"
     ]
    }
   ],
   "source": [
    "coffee_list = coffee_sales[\"coffee_sold\"]\n",
    "\n",
    "threshold = 60\n",
    "days_exceeding_threshold = 0\n",
    "\n",
    "for cups in coffee_list:\n",
    "    if cups >= threshold:\n",
    "        days_exceeding_threshold = days_exceeding_threshold + 1\n",
    "\n",
    "print(\"Days that exceeded threshold:\", days_exceeding_threshold)\n",
    "# Now you see 4, as expected, after re-running the cell."
   ]
  }
 ],
 "metadata": {
  "kernelspec": {
   "display_name": "myvenv",
   "language": "python",
   "name": "myvenv"
  },
  "language_info": {
   "codemirror_mode": {
    "name": "ipython",
    "version": 3
   },
   "file_extension": ".py",
   "mimetype": "text/x-python",
   "name": "python",
   "nbconvert_exporter": "python",
   "pygments_lexer": "ipython3",
   "version": "3.12.2"
  }
 },
 "nbformat": 4,
 "nbformat_minor": 2
}
